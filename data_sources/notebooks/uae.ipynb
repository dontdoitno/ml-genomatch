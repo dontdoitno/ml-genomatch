{
 "cells": [
  {
   "cell_type": "code",
   "execution_count": 68,
   "id": "c1495678",
   "metadata": {},
   "outputs": [],
   "source": [
    "import pandas as pd\n",
    "import numpy as np"
   ]
  },
  {
   "cell_type": "code",
   "execution_count": 69,
   "id": "23783eb9",
   "metadata": {},
   "outputs": [
    {
     "data": {
      "text/html": [
       "<div>\n",
       "<style scoped>\n",
       "    .dataframe tbody tr th:only-of-type {\n",
       "        vertical-align: middle;\n",
       "    }\n",
       "\n",
       "    .dataframe tbody tr th {\n",
       "        vertical-align: top;\n",
       "    }\n",
       "\n",
       "    .dataframe thead th {\n",
       "        text-align: right;\n",
       "    }\n",
       "</style>\n",
       "<table border=\"1\" class=\"dataframe\">\n",
       "  <thead>\n",
       "    <tr style=\"text-align: right;\">\n",
       "      <th></th>\n",
       "      <th>R_Sex</th>\n",
       "      <th>Age</th>\n",
       "      <th>Adult Categorey</th>\n",
       "      <th>Nationality</th>\n",
       "      <th>Hemaological Diagnosis</th>\n",
       "      <th>PreBMT Treatment Regimen 1</th>\n",
       "      <th>PreBMT Treatment Regimen 2</th>\n",
       "      <th>PreBMT Treatment Regimen 3</th>\n",
       "      <th>Number of lines of Rx before BMT</th>\n",
       "      <th>Indication for  BMT</th>\n",
       "      <th>...</th>\n",
       "      <th>GVHD Prophylaxis</th>\n",
       "      <th>GVHD</th>\n",
       "      <th>GVHD Acute/Chronic</th>\n",
       "      <th>GVHD severity</th>\n",
       "      <th>SKIN CGVHD</th>\n",
       "      <th>LIVER CGVHD</th>\n",
       "      <th>GI CGVHD</th>\n",
       "      <th>EYE CGVHD</th>\n",
       "      <th>LUNG CGVHD</th>\n",
       "      <th>DEAD/Y/N</th>\n",
       "    </tr>\n",
       "  </thead>\n",
       "  <tbody>\n",
       "    <tr>\n",
       "      <th>0</th>\n",
       "      <td>MALE</td>\n",
       "      <td>38.356164</td>\n",
       "      <td>NaN</td>\n",
       "      <td>BANGLADESHI</td>\n",
       "      <td>Acute myeloid leukemia</td>\n",
       "      <td>7+3</td>\n",
       "      <td>HIDAC</td>\n",
       "      <td>NaN</td>\n",
       "      <td>2</td>\n",
       "      <td>Acute myeloid leukemia</td>\n",
       "      <td>...</td>\n",
       "      <td>Cyclosporin+MTX</td>\n",
       "      <td>NO</td>\n",
       "      <td>NaN</td>\n",
       "      <td>NaN</td>\n",
       "      <td>NO</td>\n",
       "      <td>NO</td>\n",
       "      <td>NO</td>\n",
       "      <td>NO</td>\n",
       "      <td>NO</td>\n",
       "      <td>NO</td>\n",
       "    </tr>\n",
       "    <tr>\n",
       "      <th>1</th>\n",
       "      <td>FEMALE</td>\n",
       "      <td>28.657534</td>\n",
       "      <td>Adult</td>\n",
       "      <td>EMIRATI</td>\n",
       "      <td>Acute myeloid leukemia</td>\n",
       "      <td>7+3</td>\n",
       "      <td>FLAG/IDA</td>\n",
       "      <td>Azacytidine</td>\n",
       "      <td>4</td>\n",
       "      <td>Acute myeloid leukemia</td>\n",
       "      <td>...</td>\n",
       "      <td>MMF+Tacrolimus+Ruxolitinib</td>\n",
       "      <td>YES</td>\n",
       "      <td>Acute</td>\n",
       "      <td>MODERATE</td>\n",
       "      <td>NO</td>\n",
       "      <td>YES</td>\n",
       "      <td>NO</td>\n",
       "      <td>NO</td>\n",
       "      <td>NO</td>\n",
       "      <td>YES</td>\n",
       "    </tr>\n",
       "    <tr>\n",
       "      <th>2</th>\n",
       "      <td>FEMALE</td>\n",
       "      <td>37.249315</td>\n",
       "      <td>Adult</td>\n",
       "      <td>INDIAN</td>\n",
       "      <td>Acute myeloid leukemia</td>\n",
       "      <td>7+3</td>\n",
       "      <td>HIDAC</td>\n",
       "      <td>NaN</td>\n",
       "      <td>2</td>\n",
       "      <td>Acute myeloid leukemia</td>\n",
       "      <td>...</td>\n",
       "      <td>Cyclosporin+MTX</td>\n",
       "      <td>YES</td>\n",
       "      <td>Chronic</td>\n",
       "      <td>SEVERE</td>\n",
       "      <td>NO</td>\n",
       "      <td>NO</td>\n",
       "      <td>NO</td>\n",
       "      <td>YES</td>\n",
       "      <td>NO</td>\n",
       "      <td>NO</td>\n",
       "    </tr>\n",
       "    <tr>\n",
       "      <th>3</th>\n",
       "      <td>MALE</td>\n",
       "      <td>51.619178</td>\n",
       "      <td>Adult</td>\n",
       "      <td>EGYPTIAN</td>\n",
       "      <td>Acute myeloid leukemia</td>\n",
       "      <td>7+3</td>\n",
       "      <td>HIDAC</td>\n",
       "      <td>FLAG/IDA</td>\n",
       "      <td>3</td>\n",
       "      <td>Acute myeloid leukemia</td>\n",
       "      <td>...</td>\n",
       "      <td>Cyclosporin+MTX</td>\n",
       "      <td>YES</td>\n",
       "      <td>Chronic</td>\n",
       "      <td>MILD</td>\n",
       "      <td>NO</td>\n",
       "      <td>YES</td>\n",
       "      <td>NO</td>\n",
       "      <td>NO</td>\n",
       "      <td>NO</td>\n",
       "      <td>NO</td>\n",
       "    </tr>\n",
       "    <tr>\n",
       "      <th>4</th>\n",
       "      <td>MALE</td>\n",
       "      <td>52.117808</td>\n",
       "      <td>Adult</td>\n",
       "      <td>SYRIAN</td>\n",
       "      <td>Acute myeloid leukemia</td>\n",
       "      <td>7+3</td>\n",
       "      <td>HIDAC</td>\n",
       "      <td>FLAG/IDA</td>\n",
       "      <td>3</td>\n",
       "      <td>Acute myeloid leukemia</td>\n",
       "      <td>...</td>\n",
       "      <td>Cyclosporin+MTX</td>\n",
       "      <td>YES</td>\n",
       "      <td>Acute</td>\n",
       "      <td>SEVERE</td>\n",
       "      <td>YES</td>\n",
       "      <td>NO</td>\n",
       "      <td>YES</td>\n",
       "      <td>NO</td>\n",
       "      <td>NO</td>\n",
       "      <td>YES</td>\n",
       "    </tr>\n",
       "  </tbody>\n",
       "</table>\n",
       "<p>5 rows × 27 columns</p>\n",
       "</div>"
      ],
      "text/plain": [
       "    R_Sex        Age Adult Categorey  Nationality  Hemaological Diagnosis  \\\n",
       "0    MALE  38.356164             NaN  BANGLADESHI  Acute myeloid leukemia   \n",
       "1  FEMALE  28.657534           Adult      EMIRATI  Acute myeloid leukemia   \n",
       "2  FEMALE  37.249315           Adult       INDIAN  Acute myeloid leukemia   \n",
       "3    MALE  51.619178           Adult     EGYPTIAN  Acute myeloid leukemia   \n",
       "4    MALE  52.117808           Adult       SYRIAN  Acute myeloid leukemia   \n",
       "\n",
       "  PreBMT Treatment Regimen 1 PreBMT Treatment Regimen 2  \\\n",
       "0                        7+3                      HIDAC   \n",
       "1                        7+3                   FLAG/IDA   \n",
       "2                        7+3                      HIDAC   \n",
       "3                        7+3                      HIDAC   \n",
       "4                        7+3                      HIDAC   \n",
       "\n",
       "  PreBMT Treatment Regimen 3  Number of lines of Rx before BMT  \\\n",
       "0                        NaN                                 2   \n",
       "1                Azacytidine                                 4   \n",
       "2                        NaN                                 2   \n",
       "3                   FLAG/IDA                                 3   \n",
       "4                   FLAG/IDA                                 3   \n",
       "\n",
       "      Indication for  BMT  ...            GVHD Prophylaxis  GVHD   \\\n",
       "0  Acute myeloid leukemia  ...             Cyclosporin+MTX     NO   \n",
       "1  Acute myeloid leukemia  ...  MMF+Tacrolimus+Ruxolitinib    YES   \n",
       "2  Acute myeloid leukemia  ...             Cyclosporin+MTX    YES   \n",
       "3  Acute myeloid leukemia  ...             Cyclosporin+MTX    YES   \n",
       "4  Acute myeloid leukemia  ...             Cyclosporin+MTX    YES   \n",
       "\n",
       "  GVHD Acute/Chronic  GVHD severity  SKIN CGVHD LIVER CGVHD GI CGVHD  \\\n",
       "0                 NaN            NaN         NO          NO       NO   \n",
       "1               Acute       MODERATE         NO         YES       NO   \n",
       "2             Chronic         SEVERE         NO          NO       NO   \n",
       "3             Chronic           MILD         NO         YES       NO   \n",
       "4               Acute         SEVERE        YES          NO      YES   \n",
       "\n",
       "  EYE CGVHD LUNG CGVHD DEAD/Y/N  \n",
       "0        NO         NO       NO  \n",
       "1        NO         NO      YES  \n",
       "2       YES         NO       NO  \n",
       "3        NO         NO       NO  \n",
       "4        NO         NO      YES  \n",
       "\n",
       "[5 rows x 27 columns]"
      ]
     },
     "execution_count": 69,
     "metadata": {},
     "output_type": "execute_result"
    }
   ],
   "source": [
    "uae_df = pd.read_excel('../raw_datasets/uae.xlsx')\n",
    "uae_df.head()"
   ]
  },
  {
   "cell_type": "code",
   "execution_count": 70,
   "id": "eab4659b",
   "metadata": {},
   "outputs": [
    {
     "name": "stdout",
     "output_type": "stream",
     "text": [
      "<class 'pandas.core.frame.DataFrame'>\n",
      "RangeIndex: 91 entries, 0 to 90\n",
      "Data columns (total 27 columns):\n",
      " #   Column                            Non-Null Count  Dtype  \n",
      "---  ------                            --------------  -----  \n",
      " 0   R_Sex                             91 non-null     object \n",
      " 1   Age                               91 non-null     float64\n",
      " 2   Adult Categorey                   40 non-null     object \n",
      " 3   Nationality                       91 non-null     object \n",
      " 4   Hemaological Diagnosis            91 non-null     object \n",
      " 5   PreBMT Treatment Regimen 1        40 non-null     object \n",
      " 6   PreBMT Treatment Regimen 2        31 non-null     object \n",
      " 7   PreBMT Treatment Regimen 3        14 non-null     object \n",
      " 8   Number of lines of Rx before BMT  91 non-null     int64  \n",
      " 9   Indication for  BMT               91 non-null     object \n",
      " 10  Diagnosis to BMT time months      91 non-null     int64  \n",
      " 11  R_Age at BMT                      91 non-null     int64  \n",
      " 12  R_Blood group                     91 non-null     object \n",
      " 13  HLA match                         91 non-null     object \n",
      " 14  NEW HLA                           91 non-null     object \n",
      " 15  D_relation                        91 non-null     object \n",
      " 16  D_sex                             91 non-null     object \n",
      " 17  GVHD Prophylaxis                  74 non-null     object \n",
      " 18  GVHD                              91 non-null     object \n",
      " 19  GVHD Acute/Chronic                40 non-null     object \n",
      " 20  GVHD severity                     40 non-null     object \n",
      " 21  SKIN CGVHD                        90 non-null     object \n",
      " 22  LIVER CGVHD                       90 non-null     object \n",
      " 23  GI CGVHD                          90 non-null     object \n",
      " 24  EYE CGVHD                         90 non-null     object \n",
      " 25  LUNG CGVHD                        90 non-null     object \n",
      " 26  DEAD/Y/N                          90 non-null     object \n",
      "dtypes: float64(1), int64(3), object(23)\n",
      "memory usage: 19.3+ KB\n"
     ]
    }
   ],
   "source": [
    "uae_df.info()"
   ]
  },
  {
   "cell_type": "code",
   "execution_count": 71,
   "id": "f92e032e",
   "metadata": {},
   "outputs": [
    {
     "data": {
      "text/plain": [
       "['R_Sex',\n",
       " 'Age',\n",
       " 'Adult Categorey',\n",
       " 'Nationality',\n",
       " 'Hemaological Diagnosis',\n",
       " 'PreBMT Treatment Regimen 1',\n",
       " 'PreBMT Treatment Regimen 2',\n",
       " 'PreBMT Treatment Regimen 3',\n",
       " 'Number of lines of Rx before BMT',\n",
       " 'Indication for  BMT',\n",
       " 'Diagnosis to BMT time months',\n",
       " 'R_Age at BMT',\n",
       " 'R_Blood group',\n",
       " 'HLA match',\n",
       " 'NEW HLA',\n",
       " 'D_relation',\n",
       " 'D_sex',\n",
       " 'GVHD Prophylaxis',\n",
       " 'GVHD ',\n",
       " 'GVHD Acute/Chronic ',\n",
       " 'GVHD severity ',\n",
       " 'SKIN CGVHD',\n",
       " 'LIVER CGVHD',\n",
       " 'GI CGVHD',\n",
       " 'EYE CGVHD',\n",
       " 'LUNG CGVHD',\n",
       " 'DEAD/Y/N']"
      ]
     },
     "execution_count": 71,
     "metadata": {},
     "output_type": "execute_result"
    }
   ],
   "source": [
    "uae_df.columns.to_list()"
   ]
  },
  {
   "cell_type": "code",
   "execution_count": 72,
   "id": "e8bb4e43",
   "metadata": {},
   "outputs": [
    {
     "name": "stderr",
     "output_type": "stream",
     "text": [
      "/var/folders/03/xqwlspkx04x3bk4y2js4ql0r0000gn/T/ipykernel_92133/1656636187.py:2: FutureWarning: Downcasting behavior in `replace` is deprecated and will be removed in a future version. To retain the old behavior, explicitly call `result.infer_objects(copy=False)`. To opt-in to the future behavior, set `pd.set_option('future.no_silent_downcasting', True)`\n",
      "  uae_df.replace(to_replace=to_nan, value=np.nan, inplace=True)\n"
     ]
    }
   ],
   "source": [
    "to_nan = ['UNKNOWN', 'Unknown', 'U']\n",
    "uae_df.replace(to_replace=to_nan, value=np.nan, inplace=True)"
   ]
  },
  {
   "cell_type": "code",
   "execution_count": 73,
   "id": "913961e8",
   "metadata": {},
   "outputs": [
    {
     "data": {
      "text/plain": [
       "array(['MALE', 'FEMALE'], dtype=object)"
      ]
     },
     "execution_count": 73,
     "metadata": {},
     "output_type": "execute_result"
    }
   ],
   "source": [
    "uae_df['R_Sex'].unique()"
   ]
  },
  {
   "cell_type": "code",
   "execution_count": 74,
   "id": "fc4ac212",
   "metadata": {},
   "outputs": [
    {
     "data": {
      "text/plain": [
       "array(['BANGLADESHI', 'EMIRATI', 'INDIAN', 'EGYPTIAN', 'SYRIAN',\n",
       "       'PAKISTANI', 'AFGHANISTAN', 'YEMENI', 'SUDANESE', 'ETHIOPIAN'],\n",
       "      dtype=object)"
      ]
     },
     "execution_count": 74,
     "metadata": {},
     "output_type": "execute_result"
    }
   ],
   "source": [
    "uae_df['Nationality'].unique()"
   ]
  },
  {
   "cell_type": "code",
   "execution_count": 75,
   "id": "99905114",
   "metadata": {},
   "outputs": [
    {
     "data": {
      "text/plain": [
       "array(['Acute myeloid leukemia', 'Aplastic anemia', 'B-ALL',\n",
       "       'Beta thalassemia intermedia', 'Beta thalassemia major',\n",
       "       'Chronic Granulomatous Disease',\n",
       "       'Combined Variable Immunodeficiency', 'Dyskeratosis congentia',\n",
       "       'Fanconi anemia', 'Hemophagocytic lymphohistiocytosis (HLH)',\n",
       "       'Hodgkin lymphoma ', 'Multiple myeloma', 'Multiple Myeloma',\n",
       "       'Myelodysplastic Syndrome', 'Myelofibrosis',\n",
       "       'Myeloproliferative disorder ', 'Neuroblastoma',\n",
       "       'Non Hodgkin Lymphoma', 'SCID', 'Sickle Cell Disease', 'T-ALL'],\n",
       "      dtype=object)"
      ]
     },
     "execution_count": 75,
     "metadata": {},
     "output_type": "execute_result"
    }
   ],
   "source": [
    "uae_df['Hemaological Diagnosis'].unique()"
   ]
  },
  {
   "cell_type": "code",
   "execution_count": 76,
   "id": "f1443f66",
   "metadata": {},
   "outputs": [
    {
     "data": {
      "text/plain": [
       "array(['10 OF 10', '10 of 10', '5 of 10', '6 of 10', '9 of 10', nan,\n",
       "       '12 of 12'], dtype=object)"
      ]
     },
     "execution_count": 76,
     "metadata": {},
     "output_type": "execute_result"
    }
   ],
   "source": [
    "uae_df['HLA match'].unique()"
   ]
  },
  {
   "cell_type": "code",
   "execution_count": 77,
   "id": "dddeadf0",
   "metadata": {},
   "outputs": [
    {
     "data": {
      "text/plain": [
       "array([1. , 0.5, 0.6, 0.9, nan])"
      ]
     },
     "execution_count": 77,
     "metadata": {},
     "output_type": "execute_result"
    }
   ],
   "source": [
    "uae_df['NEW HLA'].unique()"
   ]
  },
  {
   "cell_type": "code",
   "execution_count": 78,
   "id": "1106aafa",
   "metadata": {},
   "outputs": [
    {
     "data": {
      "text/plain": [
       "array(['BROTHER', 'UNRELATED', 'SON', 'SISTER', 'FATHER', 'MOTHER',\n",
       "       'DAUGHTER', 'UNCLE', 'SELF', 'COUSIN'], dtype=object)"
      ]
     },
     "execution_count": 78,
     "metadata": {},
     "output_type": "execute_result"
    }
   ],
   "source": [
    "uae_df['D_relation'].unique()"
   ]
  },
  {
   "cell_type": "code",
   "execution_count": 79,
   "id": "5637444a",
   "metadata": {},
   "outputs": [
    {
     "data": {
      "text/plain": [
       "array(['Male', nan, 'Female', 'MALE'], dtype=object)"
      ]
     },
     "execution_count": 79,
     "metadata": {},
     "output_type": "execute_result"
    }
   ],
   "source": [
    "uae_df['D_sex'].unique()"
   ]
  },
  {
   "cell_type": "code",
   "execution_count": 80,
   "id": "194abece",
   "metadata": {},
   "outputs": [
    {
     "data": {
      "text/plain": [
       "array(['Cyclosporin+MTX', 'MMF+Tacrolimus+Ruxolitinib',\n",
       "       'Cyclophosphamide+MMF+Tacrolimus', nan, 'Tacrolimus',\n",
       "       'Cyclosporin', 'Cyclosporin+MTX+Tacrolimus', 'Cyclosporin+MMF',\n",
       "       'Tacrolimus+MMF', 'Tacrolimus+MTX', 'MMF+Tacrolimus+MTX',\n",
       "       'Cyclophosphamide+MMF', 'Sirolimus',\n",
       "       'Cyclophosphamide+MMF+Sirolimus', 'MMF', 'Cyclosporin+Abatacept',\n",
       "       'Cyclophosphamide+MMF+Tacrolimus+Ruxolitinib',\n",
       "       'Cyclosporin+MTX+MMF+Leflunomide+Sirolimus',\n",
       "       'Cyclophosphamide+MMF+Tacrolimus+Cyclosporin',\n",
       "       'Cyclosporin+MTX+ Abatacept'], dtype=object)"
      ]
     },
     "execution_count": 80,
     "metadata": {},
     "output_type": "execute_result"
    }
   ],
   "source": [
    "uae_df['GVHD Prophylaxis'].unique()"
   ]
  },
  {
   "cell_type": "code",
   "execution_count": 81,
   "id": "b6ac37fa",
   "metadata": {},
   "outputs": [
    {
     "data": {
      "text/plain": [
       "array(['NO', 'YES'], dtype=object)"
      ]
     },
     "execution_count": 81,
     "metadata": {},
     "output_type": "execute_result"
    }
   ],
   "source": [
    "uae_df['GVHD '].unique()"
   ]
  },
  {
   "cell_type": "code",
   "execution_count": 82,
   "id": "04d81b52",
   "metadata": {},
   "outputs": [
    {
     "data": {
      "text/plain": [
       "array([nan, 'Acute', 'Chronic'], dtype=object)"
      ]
     },
     "execution_count": 82,
     "metadata": {},
     "output_type": "execute_result"
    }
   ],
   "source": [
    "uae_df['GVHD Acute/Chronic '].unique()"
   ]
  },
  {
   "cell_type": "code",
   "execution_count": 83,
   "id": "ff7c2db9",
   "metadata": {},
   "outputs": [
    {
     "data": {
      "text/plain": [
       "array([nan, 'MODERATE', 'SEVERE', 'MILD'], dtype=object)"
      ]
     },
     "execution_count": 83,
     "metadata": {},
     "output_type": "execute_result"
    }
   ],
   "source": [
    "uae_df['GVHD severity '].unique()"
   ]
  },
  {
   "cell_type": "code",
   "execution_count": 84,
   "id": "853bf133",
   "metadata": {},
   "outputs": [
    {
     "data": {
      "text/plain": [
       "array(['NO', 'YES', nan], dtype=object)"
      ]
     },
     "execution_count": 84,
     "metadata": {},
     "output_type": "execute_result"
    }
   ],
   "source": [
    "uae_df['DEAD/Y/N'].unique()"
   ]
  },
  {
   "cell_type": "markdown",
   "id": "c3f731ff",
   "metadata": {},
   "source": []
  }
 ],
 "metadata": {
  "kernelspec": {
   "display_name": "base",
   "language": "python",
   "name": "python3"
  },
  "language_info": {
   "codemirror_mode": {
    "name": "ipython",
    "version": 3
   },
   "file_extension": ".py",
   "mimetype": "text/x-python",
   "name": "python",
   "nbconvert_exporter": "python",
   "pygments_lexer": "ipython3",
   "version": "3.12.4"
  }
 },
 "nbformat": 4,
 "nbformat_minor": 5
}
