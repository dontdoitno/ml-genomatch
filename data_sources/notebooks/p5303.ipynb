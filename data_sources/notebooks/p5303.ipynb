{
 "cells": [
  {
   "cell_type": "code",
   "execution_count": 38,
   "id": "139eb1e5",
   "metadata": {},
   "outputs": [],
   "source": [
    "import pandas as pd\n",
    "import numpy as np"
   ]
  },
  {
   "cell_type": "code",
   "execution_count": 39,
   "id": "4c42bf3c",
   "metadata": {},
   "outputs": [
    {
     "data": {
      "text/html": [
       "<div>\n",
       "<style scoped>\n",
       "    .dataframe tbody tr th:only-of-type {\n",
       "        vertical-align: middle;\n",
       "    }\n",
       "\n",
       "    .dataframe tbody tr th {\n",
       "        vertical-align: top;\n",
       "    }\n",
       "\n",
       "    .dataframe thead th {\n",
       "        text-align: right;\n",
       "    }\n",
       "</style>\n",
       "<table border=\"1\" class=\"dataframe\">\n",
       "  <thead>\n",
       "    <tr style=\"text-align: right;\">\n",
       "      <th></th>\n",
       "      <th>yeartx</th>\n",
       "      <th>sex</th>\n",
       "      <th>disease</th>\n",
       "      <th>age</th>\n",
       "      <th>graftype</th>\n",
       "      <th>ragecat</th>\n",
       "      <th>gvhdgp</th>\n",
       "      <th>ethgp</th>\n",
       "      <th>kps</th>\n",
       "      <th>invivo_tcd</th>\n",
       "      <th>...</th>\n",
       "      <th>d_cen_regions_num</th>\n",
       "      <th>d_tel_regions_num</th>\n",
       "      <th>d_B_Content_alt</th>\n",
       "      <th>d_score_B_Content_ranking_num</th>\n",
       "      <th>kir_composite_score</th>\n",
       "      <th>disgrade</th>\n",
       "      <th>d_2DS1_NEW</th>\n",
       "      <th>d_b_content</th>\n",
       "      <th>pseudoccn</th>\n",
       "      <th>pseudoid</th>\n",
       "    </tr>\n",
       "  </thead>\n",
       "  <tbody>\n",
       "    <tr>\n",
       "      <th>0</th>\n",
       "      <td>2005.0</td>\n",
       "      <td>2.0</td>\n",
       "      <td>10.0</td>\n",
       "      <td>2.061602</td>\n",
       "      <td>1.0</td>\n",
       "      <td>0.0</td>\n",
       "      <td>9.0</td>\n",
       "      <td>1.0</td>\n",
       "      <td>1.0</td>\n",
       "      <td>1.0</td>\n",
       "      <td>...</td>\n",
       "      <td>2.0</td>\n",
       "      <td>2.0</td>\n",
       "      <td>2.0</td>\n",
       "      <td>2.0</td>\n",
       "      <td>3.0</td>\n",
       "      <td>2.0</td>\n",
       "      <td>1.0</td>\n",
       "      <td>2.0</td>\n",
       "      <td>20192516.0</td>\n",
       "      <td>20388748.0</td>\n",
       "    </tr>\n",
       "    <tr>\n",
       "      <th>1</th>\n",
       "      <td>2005.0</td>\n",
       "      <td>2.0</td>\n",
       "      <td>10.0</td>\n",
       "      <td>11.353867</td>\n",
       "      <td>22.0</td>\n",
       "      <td>1.0</td>\n",
       "      <td>5.0</td>\n",
       "      <td>1.0</td>\n",
       "      <td>0.0</td>\n",
       "      <td>1.0</td>\n",
       "      <td>...</td>\n",
       "      <td>1.0</td>\n",
       "      <td>1.0</td>\n",
       "      <td>1.0</td>\n",
       "      <td>1.0</td>\n",
       "      <td>3.0</td>\n",
       "      <td>2.0</td>\n",
       "      <td>0.0</td>\n",
       "      <td>0.0</td>\n",
       "      <td>20192520.0</td>\n",
       "      <td>20198125.0</td>\n",
       "    </tr>\n",
       "    <tr>\n",
       "      <th>2</th>\n",
       "      <td>2005.0</td>\n",
       "      <td>1.0</td>\n",
       "      <td>10.0</td>\n",
       "      <td>17.245722</td>\n",
       "      <td>22.0</td>\n",
       "      <td>1.0</td>\n",
       "      <td>5.0</td>\n",
       "      <td>6.0</td>\n",
       "      <td>1.0</td>\n",
       "      <td>0.0</td>\n",
       "      <td>...</td>\n",
       "      <td>2.0</td>\n",
       "      <td>2.0</td>\n",
       "      <td>2.0</td>\n",
       "      <td>2.0</td>\n",
       "      <td>3.0</td>\n",
       "      <td>2.0</td>\n",
       "      <td>1.0</td>\n",
       "      <td>2.0</td>\n",
       "      <td>20192569.0</td>\n",
       "      <td>20207878.0</td>\n",
       "    </tr>\n",
       "    <tr>\n",
       "      <th>3</th>\n",
       "      <td>2006.0</td>\n",
       "      <td>1.0</td>\n",
       "      <td>20.0</td>\n",
       "      <td>1.089665</td>\n",
       "      <td>1.0</td>\n",
       "      <td>0.0</td>\n",
       "      <td>9.0</td>\n",
       "      <td>1.0</td>\n",
       "      <td>99.0</td>\n",
       "      <td>0.0</td>\n",
       "      <td>...</td>\n",
       "      <td>2.0</td>\n",
       "      <td>1.0</td>\n",
       "      <td>1.0</td>\n",
       "      <td>1.0</td>\n",
       "      <td>2.0</td>\n",
       "      <td>2.0</td>\n",
       "      <td>0.0</td>\n",
       "      <td>1.0</td>\n",
       "      <td>20189583.0</td>\n",
       "      <td>20234291.0</td>\n",
       "    </tr>\n",
       "    <tr>\n",
       "      <th>4</th>\n",
       "      <td>2006.0</td>\n",
       "      <td>2.0</td>\n",
       "      <td>20.0</td>\n",
       "      <td>1.713895</td>\n",
       "      <td>1.0</td>\n",
       "      <td>0.0</td>\n",
       "      <td>5.0</td>\n",
       "      <td>99.0</td>\n",
       "      <td>1.0</td>\n",
       "      <td>1.0</td>\n",
       "      <td>...</td>\n",
       "      <td>1.0</td>\n",
       "      <td>1.0</td>\n",
       "      <td>1.0</td>\n",
       "      <td>1.0</td>\n",
       "      <td>3.0</td>\n",
       "      <td>2.0</td>\n",
       "      <td>0.0</td>\n",
       "      <td>0.0</td>\n",
       "      <td>20192661.0</td>\n",
       "      <td>20386517.0</td>\n",
       "    </tr>\n",
       "  </tbody>\n",
       "</table>\n",
       "<p>5 rows × 40 columns</p>\n",
       "</div>"
      ],
      "text/plain": [
       "   yeartx  sex  disease        age  graftype  ragecat  gvhdgp  ethgp   kps  \\\n",
       "0  2005.0  2.0     10.0   2.061602       1.0      0.0     9.0    1.0   1.0   \n",
       "1  2005.0  2.0     10.0  11.353867      22.0      1.0     5.0    1.0   0.0   \n",
       "2  2005.0  1.0     10.0  17.245722      22.0      1.0     5.0    6.0   1.0   \n",
       "3  2006.0  1.0     20.0   1.089665       1.0      0.0     9.0    1.0  99.0   \n",
       "4  2006.0  2.0     20.0   1.713895       1.0      0.0     5.0   99.0   1.0   \n",
       "\n",
       "   invivo_tcd  ...  d_cen_regions_num  d_tel_regions_num  d_B_Content_alt  \\\n",
       "0         1.0  ...                2.0                2.0              2.0   \n",
       "1         1.0  ...                1.0                1.0              1.0   \n",
       "2         0.0  ...                2.0                2.0              2.0   \n",
       "3         0.0  ...                2.0                1.0              1.0   \n",
       "4         1.0  ...                1.0                1.0              1.0   \n",
       "\n",
       "   d_score_B_Content_ranking_num  kir_composite_score  disgrade  d_2DS1_NEW  \\\n",
       "0                            2.0                  3.0       2.0         1.0   \n",
       "1                            1.0                  3.0       2.0         0.0   \n",
       "2                            2.0                  3.0       2.0         1.0   \n",
       "3                            1.0                  2.0       2.0         0.0   \n",
       "4                            1.0                  3.0       2.0         0.0   \n",
       "\n",
       "   d_b_content   pseudoccn    pseudoid  \n",
       "0          2.0  20192516.0  20388748.0  \n",
       "1          0.0  20192520.0  20198125.0  \n",
       "2          2.0  20192569.0  20207878.0  \n",
       "3          1.0  20189583.0  20234291.0  \n",
       "4          0.0  20192661.0  20386517.0  \n",
       "\n",
       "[5 rows x 40 columns]"
      ]
     },
     "execution_count": 39,
     "metadata": {},
     "output_type": "execute_result"
    }
   ],
   "source": [
    "df = pd.read_sas('../raw_datasets/p5303.sas7bdat')\n",
    "df.head()"
   ]
  },
  {
   "cell_type": "code",
   "execution_count": 40,
   "id": "4f132d53",
   "metadata": {},
   "outputs": [
    {
     "name": "stdout",
     "output_type": "stream",
     "text": [
      "<class 'pandas.core.frame.DataFrame'>\n",
      "RangeIndex: 713 entries, 0 to 712\n",
      "Data columns (total 40 columns):\n",
      " #   Column                         Non-Null Count  Dtype  \n",
      "---  ------                         --------------  -----  \n",
      " 0   yeartx                         713 non-null    float64\n",
      " 1   sex                            713 non-null    float64\n",
      " 2   disease                        713 non-null    float64\n",
      " 3   age                            713 non-null    float64\n",
      " 4   graftype                       713 non-null    float64\n",
      " 5   ragecat                        713 non-null    float64\n",
      " 6   gvhdgp                         713 non-null    float64\n",
      " 7   ethgp                          713 non-null    float64\n",
      " 8   kps                            713 non-null    float64\n",
      " 9   invivo_tcd                     713 non-null    float64\n",
      " 10  indxtx2                        710 non-null    float64\n",
      " 11  dead                           713 non-null    float64\n",
      " 12  intxsurv                       710 non-null    float64\n",
      " 13  anc                            713 non-null    float64\n",
      " 14  intxanc                        713 non-null    float64\n",
      " 15  platelet                       713 non-null    float64\n",
      " 16  intxplatelet                   713 non-null    float64\n",
      " 17  agvhd24                        713 non-null    float64\n",
      " 18  intxagvhd24                    533 non-null    float64\n",
      " 19  agvhd34                        713 non-null    float64\n",
      " 20  intxagvhd34                    618 non-null    float64\n",
      " 21  cgvhd                          713 non-null    float64\n",
      " 22  intxcgvhd                      703 non-null    float64\n",
      " 23  rel                            713 non-null    float64\n",
      " 24  trm                            713 non-null    float64\n",
      " 25  dfs                            713 non-null    float64\n",
      " 26  intxrel                        703 non-null    float64\n",
      " 27  condint                        713 non-null    float64\n",
      " 28  yrgrp                          713 non-null    float64\n",
      " 29  d_haplotypes_num               713 non-null    float64\n",
      " 30  d_cen_regions_num              713 non-null    float64\n",
      " 31  d_tel_regions_num              713 non-null    float64\n",
      " 32  d_B_Content_alt                713 non-null    float64\n",
      " 33  d_score_B_Content_ranking_num  713 non-null    float64\n",
      " 34  kir_composite_score            713 non-null    float64\n",
      " 35  disgrade                       713 non-null    float64\n",
      " 36  d_2DS1_NEW                     713 non-null    float64\n",
      " 37  d_b_content                    713 non-null    float64\n",
      " 38  pseudoccn                      335 non-null    float64\n",
      " 39  pseudoid                       713 non-null    float64\n",
      "dtypes: float64(40)\n",
      "memory usage: 222.9 KB\n"
     ]
    }
   ],
   "source": [
    "df.info()"
   ]
  },
  {
   "cell_type": "code",
   "execution_count": 41,
   "id": "7f5e1027",
   "metadata": {},
   "outputs": [
    {
     "data": {
      "text/plain": [
       "['yeartx',\n",
       " 'sex',\n",
       " 'disease',\n",
       " 'age',\n",
       " 'graftype',\n",
       " 'ragecat',\n",
       " 'gvhdgp',\n",
       " 'ethgp',\n",
       " 'kps',\n",
       " 'invivo_tcd',\n",
       " 'indxtx2',\n",
       " 'dead',\n",
       " 'intxsurv',\n",
       " 'anc',\n",
       " 'intxanc',\n",
       " 'platelet',\n",
       " 'intxplatelet',\n",
       " 'agvhd24',\n",
       " 'intxagvhd24',\n",
       " 'agvhd34',\n",
       " 'intxagvhd34',\n",
       " 'cgvhd',\n",
       " 'intxcgvhd',\n",
       " 'rel',\n",
       " 'trm',\n",
       " 'dfs',\n",
       " 'intxrel',\n",
       " 'condint',\n",
       " 'yrgrp',\n",
       " 'd_haplotypes_num',\n",
       " 'd_cen_regions_num',\n",
       " 'd_tel_regions_num',\n",
       " 'd_B_Content_alt',\n",
       " 'd_score_B_Content_ranking_num',\n",
       " 'kir_composite_score',\n",
       " 'disgrade',\n",
       " 'd_2DS1_NEW',\n",
       " 'd_b_content',\n",
       " 'pseudoccn',\n",
       " 'pseudoid']"
      ]
     },
     "execution_count": 41,
     "metadata": {},
     "output_type": "execute_result"
    }
   ],
   "source": [
    "df.columns.to_list()"
   ]
  },
  {
   "cell_type": "code",
   "execution_count": 42,
   "id": "a9f4046b",
   "metadata": {},
   "outputs": [],
   "source": [
    "to_nan = [99.]\n",
    "df.replace(to_replace=to_nan, value=np.nan, inplace=True)"
   ]
  },
  {
   "cell_type": "code",
   "execution_count": 43,
   "id": "d2876011",
   "metadata": {},
   "outputs": [
    {
     "data": {
      "text/plain": [
       "array([ 0.,  1., nan])"
      ]
     },
     "execution_count": 43,
     "metadata": {},
     "output_type": "execute_result"
    }
   ],
   "source": [
    "df['agvhd24'].unique()"
   ]
  },
  {
   "cell_type": "code",
   "execution_count": 44,
   "id": "cdd23e60",
   "metadata": {},
   "outputs": [
    {
     "data": {
      "text/plain": [
       "array([1., 0.])"
      ]
     },
     "execution_count": 44,
     "metadata": {},
     "output_type": "execute_result"
    }
   ],
   "source": [
    "df['anc'].unique()"
   ]
  },
  {
   "cell_type": "code",
   "execution_count": 45,
   "id": "4f3deca2",
   "metadata": {},
   "outputs": [
    {
     "data": {
      "text/plain": [
       "array([ 0.,  1., nan])"
      ]
     },
     "execution_count": 45,
     "metadata": {},
     "output_type": "execute_result"
    }
   ],
   "source": [
    "df['cgvhd'].unique()"
   ]
  },
  {
   "cell_type": "code",
   "execution_count": 46,
   "id": "dc0fca68",
   "metadata": {},
   "outputs": [
    {
     "data": {
      "text/plain": [
       "array([1., 3., 2.])"
      ]
     },
     "execution_count": 46,
     "metadata": {},
     "output_type": "execute_result"
    }
   ],
   "source": [
    "df['condint'].unique()"
   ]
  },
  {
   "cell_type": "code",
   "execution_count": 47,
   "id": "064cff50",
   "metadata": {},
   "outputs": [
    {
     "data": {
      "text/plain": [
       "array([0., 1.])"
      ]
     },
     "execution_count": 47,
     "metadata": {},
     "output_type": "execute_result"
    }
   ],
   "source": [
    "df['dead'].unique()"
   ]
  },
  {
   "cell_type": "code",
   "execution_count": 48,
   "id": "9e43a3ab",
   "metadata": {},
   "outputs": [
    {
     "data": {
      "text/plain": [
       "array([10., 20.])"
      ]
     },
     "execution_count": 48,
     "metadata": {},
     "output_type": "execute_result"
    }
   ],
   "source": [
    "df['disease'].unique()"
   ]
  },
  {
   "cell_type": "code",
   "execution_count": 49,
   "id": "ef16582f",
   "metadata": {},
   "outputs": [
    {
     "data": {
      "text/plain": [
       "array([ 2.,  1.,  3.,  4., nan])"
      ]
     },
     "execution_count": 49,
     "metadata": {},
     "output_type": "execute_result"
    }
   ],
   "source": [
    "df['disgrade'].unique()"
   ]
  },
  {
   "cell_type": "code",
   "execution_count": 50,
   "id": "2cc412e8",
   "metadata": {},
   "outputs": [
    {
     "data": {
      "text/plain": [
       "array([ 1.,  6., nan,  3.,  2.,  5.,  4.])"
      ]
     },
     "execution_count": 50,
     "metadata": {},
     "output_type": "execute_result"
    }
   ],
   "source": [
    "df['ethgp'].unique()"
   ]
  },
  {
   "cell_type": "code",
   "execution_count": 51,
   "id": "13217d9c",
   "metadata": {},
   "outputs": [
    {
     "data": {
      "text/plain": [
       "array([ 1., 22.])"
      ]
     },
     "execution_count": 51,
     "metadata": {},
     "output_type": "execute_result"
    }
   ],
   "source": [
    "df['graftype'].unique()"
   ]
  },
  {
   "cell_type": "code",
   "execution_count": 52,
   "id": "c18291cb",
   "metadata": {},
   "outputs": [
    {
     "data": {
      "text/plain": [
       "array([ 9.,  5.,  4.,  6., 11., 10.,  8.,  7.])"
      ]
     },
     "execution_count": 52,
     "metadata": {},
     "output_type": "execute_result"
    }
   ],
   "source": [
    "df['gvhdgp'].unique()"
   ]
  },
  {
   "cell_type": "code",
   "execution_count": 53,
   "id": "ef589889",
   "metadata": {},
   "outputs": [
    {
     "data": {
      "text/plain": [
       "array([ 0.,  1., nan])"
      ]
     },
     "execution_count": 53,
     "metadata": {},
     "output_type": "execute_result"
    }
   ],
   "source": [
    "df['rel'].unique()"
   ]
  },
  {
   "cell_type": "code",
   "execution_count": 54,
   "id": "079dc0ed",
   "metadata": {},
   "outputs": [
    {
     "data": {
      "text/plain": [
       "array([2., 1.])"
      ]
     },
     "execution_count": 54,
     "metadata": {},
     "output_type": "execute_result"
    }
   ],
   "source": [
    "df['sex'].unique()"
   ]
  },
  {
   "cell_type": "code",
   "execution_count": 55,
   "id": "1c78d06d",
   "metadata": {},
   "outputs": [
    {
     "data": {
      "text/plain": [
       "array([ 0.,  1., nan])"
      ]
     },
     "execution_count": 55,
     "metadata": {},
     "output_type": "execute_result"
    }
   ],
   "source": [
    "df['trm'].unique()"
   ]
  }
 ],
 "metadata": {
  "kernelspec": {
   "display_name": "base",
   "language": "python",
   "name": "python3"
  },
  "language_info": {
   "codemirror_mode": {
    "name": "ipython",
    "version": 3
   },
   "file_extension": ".py",
   "mimetype": "text/x-python",
   "name": "python",
   "nbconvert_exporter": "python",
   "pygments_lexer": "ipython3",
   "version": "3.12.4"
  }
 },
 "nbformat": 4,
 "nbformat_minor": 5
}
