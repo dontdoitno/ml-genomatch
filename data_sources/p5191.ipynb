{
 "cells": [
  {
   "cell_type": "code",
   "execution_count": 4,
   "id": "a4050b96",
   "metadata": {},
   "outputs": [],
   "source": [
    "import pandas as pd\n",
    "import numpy as mp"
   ]
  },
  {
   "cell_type": "code",
   "execution_count": 5,
   "id": "9c4da43e",
   "metadata": {},
   "outputs": [
    {
     "data": {
      "text/html": [
       "<div>\n",
       "<style scoped>\n",
       "    .dataframe tbody tr th:only-of-type {\n",
       "        vertical-align: middle;\n",
       "    }\n",
       "\n",
       "    .dataframe tbody tr th {\n",
       "        vertical-align: top;\n",
       "    }\n",
       "\n",
       "    .dataframe thead th {\n",
       "        text-align: right;\n",
       "    }\n",
       "</style>\n",
       "<table border=\"1\" class=\"dataframe\">\n",
       "  <thead>\n",
       "    <tr style=\"text-align: right;\">\n",
       "      <th></th>\n",
       "      <th>sex</th>\n",
       "      <th>rcmv</th>\n",
       "      <th>graftype</th>\n",
       "      <th>age</th>\n",
       "      <th>intxsurv</th>\n",
       "      <th>dead</th>\n",
       "      <th>kps</th>\n",
       "      <th>anc</th>\n",
       "      <th>intxanc</th>\n",
       "      <th>dwoanc</th>\n",
       "      <th>...</th>\n",
       "      <th>agvhd24</th>\n",
       "      <th>intxagvhd24</th>\n",
       "      <th>dwoagvhd24</th>\n",
       "      <th>intxefs</th>\n",
       "      <th>secondary_malig</th>\n",
       "      <th>intx2malig</th>\n",
       "      <th>stroke</th>\n",
       "      <th>acs</th>\n",
       "      <th>dummyid</th>\n",
       "      <th>dummyccn</th>\n",
       "    </tr>\n",
       "  </thead>\n",
       "  <tbody>\n",
       "    <tr>\n",
       "      <th>0</th>\n",
       "      <td>2.0</td>\n",
       "      <td>1.0</td>\n",
       "      <td>2.0</td>\n",
       "      <td>15.0</td>\n",
       "      <td>6.68</td>\n",
       "      <td>1.0</td>\n",
       "      <td>1.0</td>\n",
       "      <td>1.0</td>\n",
       "      <td>0.39</td>\n",
       "      <td>0.0</td>\n",
       "      <td>...</td>\n",
       "      <td>1.0</td>\n",
       "      <td>0.59</td>\n",
       "      <td>0.0</td>\n",
       "      <td>0.69</td>\n",
       "      <td>0.0</td>\n",
       "      <td>NaN</td>\n",
       "      <td>1.0</td>\n",
       "      <td>0.0</td>\n",
       "      <td>1746133.0</td>\n",
       "      <td>4028482.0</td>\n",
       "    </tr>\n",
       "    <tr>\n",
       "      <th>1</th>\n",
       "      <td>2.0</td>\n",
       "      <td>0.0</td>\n",
       "      <td>1.0</td>\n",
       "      <td>1.0</td>\n",
       "      <td>96.71</td>\n",
       "      <td>0.0</td>\n",
       "      <td>1.0</td>\n",
       "      <td>1.0</td>\n",
       "      <td>0.53</td>\n",
       "      <td>0.0</td>\n",
       "      <td>...</td>\n",
       "      <td>0.0</td>\n",
       "      <td>96.71</td>\n",
       "      <td>0.0</td>\n",
       "      <td>96.71</td>\n",
       "      <td>0.0</td>\n",
       "      <td>NaN</td>\n",
       "      <td>0.0</td>\n",
       "      <td>0.0</td>\n",
       "      <td>1405938.0</td>\n",
       "      <td>4028570.0</td>\n",
       "    </tr>\n",
       "    <tr>\n",
       "      <th>2</th>\n",
       "      <td>1.0</td>\n",
       "      <td>1.0</td>\n",
       "      <td>1.0</td>\n",
       "      <td>3.0</td>\n",
       "      <td>120.89</td>\n",
       "      <td>0.0</td>\n",
       "      <td>1.0</td>\n",
       "      <td>1.0</td>\n",
       "      <td>0.99</td>\n",
       "      <td>0.0</td>\n",
       "      <td>...</td>\n",
       "      <td>0.0</td>\n",
       "      <td>120.89</td>\n",
       "      <td>0.0</td>\n",
       "      <td>120.89</td>\n",
       "      <td>0.0</td>\n",
       "      <td>NaN</td>\n",
       "      <td>0.0</td>\n",
       "      <td>0.0</td>\n",
       "      <td>1400962.0</td>\n",
       "      <td>4028574.0</td>\n",
       "    </tr>\n",
       "    <tr>\n",
       "      <th>3</th>\n",
       "      <td>1.0</td>\n",
       "      <td>0.0</td>\n",
       "      <td>1.0</td>\n",
       "      <td>12.0</td>\n",
       "      <td>82.96</td>\n",
       "      <td>0.0</td>\n",
       "      <td>1.0</td>\n",
       "      <td>1.0</td>\n",
       "      <td>0.39</td>\n",
       "      <td>0.0</td>\n",
       "      <td>...</td>\n",
       "      <td>0.0</td>\n",
       "      <td>82.96</td>\n",
       "      <td>0.0</td>\n",
       "      <td>82.96</td>\n",
       "      <td>0.0</td>\n",
       "      <td>NaN</td>\n",
       "      <td>0.0</td>\n",
       "      <td>0.0</td>\n",
       "      <td>1542462.0</td>\n",
       "      <td>4027460.0</td>\n",
       "    </tr>\n",
       "    <tr>\n",
       "      <th>4</th>\n",
       "      <td>1.0</td>\n",
       "      <td>0.0</td>\n",
       "      <td>3.0</td>\n",
       "      <td>13.0</td>\n",
       "      <td>95.72</td>\n",
       "      <td>0.0</td>\n",
       "      <td>2.0</td>\n",
       "      <td>1.0</td>\n",
       "      <td>0.86</td>\n",
       "      <td>0.0</td>\n",
       "      <td>...</td>\n",
       "      <td>1.0</td>\n",
       "      <td>1.32</td>\n",
       "      <td>0.0</td>\n",
       "      <td>95.72</td>\n",
       "      <td>0.0</td>\n",
       "      <td>NaN</td>\n",
       "      <td>0.0</td>\n",
       "      <td>0.0</td>\n",
       "      <td>1549746.0</td>\n",
       "      <td>4028456.0</td>\n",
       "    </tr>\n",
       "  </tbody>\n",
       "</table>\n",
       "<p>5 rows × 40 columns</p>\n",
       "</div>"
      ],
      "text/plain": [
       "   sex  rcmv  graftype   age  intxsurv  dead  kps  anc  intxanc  dwoanc  ...  \\\n",
       "0  2.0   1.0       2.0  15.0      6.68   1.0  1.0  1.0     0.39     0.0  ...   \n",
       "1  2.0   0.0       1.0   1.0     96.71   0.0  1.0  1.0     0.53     0.0  ...   \n",
       "2  1.0   1.0       1.0   3.0    120.89   0.0  1.0  1.0     0.99     0.0  ...   \n",
       "3  1.0   0.0       1.0  12.0     82.96   0.0  1.0  1.0     0.39     0.0  ...   \n",
       "4  1.0   0.0       3.0  13.0     95.72   0.0  2.0  1.0     0.86     0.0  ...   \n",
       "\n",
       "   agvhd24  intxagvhd24  dwoagvhd24  intxefs  secondary_malig  intx2malig  \\\n",
       "0      1.0         0.59         0.0     0.69              0.0         NaN   \n",
       "1      0.0        96.71         0.0    96.71              0.0         NaN   \n",
       "2      0.0       120.89         0.0   120.89              0.0         NaN   \n",
       "3      0.0        82.96         0.0    82.96              0.0         NaN   \n",
       "4      1.0         1.32         0.0    95.72              0.0         NaN   \n",
       "\n",
       "   stroke  acs    dummyid   dummyccn  \n",
       "0     1.0  0.0  1746133.0  4028482.0  \n",
       "1     0.0  0.0  1405938.0  4028570.0  \n",
       "2     0.0  0.0  1400962.0  4028574.0  \n",
       "3     0.0  0.0  1542462.0  4027460.0  \n",
       "4     0.0  0.0  1549746.0  4028456.0  \n",
       "\n",
       "[5 rows x 40 columns]"
      ]
     },
     "execution_count": 5,
     "metadata": {},
     "output_type": "execute_result"
    }
   ],
   "source": [
    "df = pd.read_sas('../raw_datasets/p5191.sas7bdat')\n",
    "df.head()"
   ]
  },
  {
   "cell_type": "code",
   "execution_count": 6,
   "id": "2d93f595",
   "metadata": {},
   "outputs": [
    {
     "name": "stdout",
     "output_type": "stream",
     "text": [
      "<class 'pandas.core.frame.DataFrame'>\n",
      "RangeIndex: 847 entries, 0 to 846\n",
      "Data columns (total 40 columns):\n",
      " #   Column           Non-Null Count  Dtype  \n",
      "---  ------           --------------  -----  \n",
      " 0   sex              847 non-null    float64\n",
      " 1   rcmv             847 non-null    float64\n",
      " 2   graftype         847 non-null    float64\n",
      " 3   age              847 non-null    float64\n",
      " 4   intxsurv         847 non-null    float64\n",
      " 5   dead             847 non-null    float64\n",
      " 6   kps              847 non-null    float64\n",
      " 7   anc              847 non-null    float64\n",
      " 8   intxanc          847 non-null    float64\n",
      " 9   dwoanc           847 non-null    float64\n",
      " 10  platelet         847 non-null    float64\n",
      " 11  intxplatelet     847 non-null    float64\n",
      " 12  dwoplatelet      847 non-null    float64\n",
      " 13  cgvhd            847 non-null    float64\n",
      " 14  intxcgvhd        847 non-null    float64\n",
      " 15  dwocgvhd         847 non-null    float64\n",
      " 16  gf               847 non-null    float64\n",
      " 17  intxgf           847 non-null    float64\n",
      " 18  dwogf            847 non-null    float64\n",
      " 19  efs              847 non-null    float64\n",
      " 20  donorgp          847 non-null    float64\n",
      " 21  agegp            847 non-null    float64\n",
      " 22  genotype         847 non-null    float64\n",
      " 23  hctcigp          847 non-null    float64\n",
      " 24  condint          847 non-null    float64\n",
      " 25  yeargp           847 non-null    float64\n",
      " 26  condreg          847 non-null    float64\n",
      " 27  atg              847 non-null    float64\n",
      " 28  gvhdgp           847 non-null    float64\n",
      " 29  hla_match        847 non-null    float64\n",
      " 30  agvhd24          847 non-null    float64\n",
      " 31  intxagvhd24      760 non-null    float64\n",
      " 32  dwoagvhd24       847 non-null    float64\n",
      " 33  intxefs          847 non-null    float64\n",
      " 34  secondary_malig  847 non-null    float64\n",
      " 35  intx2malig       12 non-null     float64\n",
      " 36  stroke           847 non-null    float64\n",
      " 37  acs              847 non-null    float64\n",
      " 38  dummyid          847 non-null    float64\n",
      " 39  dummyccn         847 non-null    float64\n",
      "dtypes: float64(40)\n",
      "memory usage: 264.8 KB\n"
     ]
    }
   ],
   "source": [
    "df.info()"
   ]
  },
  {
   "cell_type": "code",
   "execution_count": 18,
   "id": "0d4ec370",
   "metadata": {},
   "outputs": [
    {
     "data": {
      "text/plain": [
       "array([4., 1., 2., 3.])"
      ]
     },
     "execution_count": 18,
     "metadata": {},
     "output_type": "execute_result"
    }
   ],
   "source": [
    "df['donorgp'].unique()"
   ]
  },
  {
   "cell_type": "code",
   "execution_count": 7,
   "id": "25941ad5",
   "metadata": {},
   "outputs": [
    {
     "data": {
      "text/plain": [
       "array([1., 2.])"
      ]
     },
     "execution_count": 7,
     "metadata": {},
     "output_type": "execute_result"
    }
   ],
   "source": [
    "df['genotype'].unique()"
   ]
  },
  {
   "cell_type": "code",
   "execution_count": 8,
   "id": "70ef4ca5",
   "metadata": {},
   "outputs": [
    {
     "data": {
      "text/plain": [
       "array([2., 1.])"
      ]
     },
     "execution_count": 8,
     "metadata": {},
     "output_type": "execute_result"
    }
   ],
   "source": [
    "df['sex'].unique()"
   ]
  },
  {
   "cell_type": "code",
   "execution_count": 9,
   "id": "c79b7766",
   "metadata": {},
   "outputs": [
    {
     "data": {
      "text/plain": [
       "array([2., 1., 3.])"
      ]
     },
     "execution_count": 9,
     "metadata": {},
     "output_type": "execute_result"
    }
   ],
   "source": [
    "df['graftype'].unique()"
   ]
  },
  {
   "cell_type": "code",
   "execution_count": 10,
   "id": "64f8b4c9",
   "metadata": {},
   "outputs": [
    {
     "data": {
      "text/plain": [
       "array([3., 1., 2.])"
      ]
     },
     "execution_count": 10,
     "metadata": {},
     "output_type": "execute_result"
    }
   ],
   "source": [
    "df['hla_match'].unique()"
   ]
  },
  {
   "cell_type": "code",
   "execution_count": 11,
   "id": "8f30af27",
   "metadata": {},
   "outputs": [
    {
     "data": {
      "text/plain": [
       "array([1., 3., 2.])"
      ]
     },
     "execution_count": 11,
     "metadata": {},
     "output_type": "execute_result"
    }
   ],
   "source": [
    "df['condint'].unique()"
   ]
  },
  {
   "cell_type": "code",
   "execution_count": 12,
   "id": "29b9fc36",
   "metadata": {},
   "outputs": [
    {
     "data": {
      "text/plain": [
       "array([6., 7., 5., 2., 4., 1., 3., 8., 9.])"
      ]
     },
     "execution_count": 12,
     "metadata": {},
     "output_type": "execute_result"
    }
   ],
   "source": [
    "df['gvhdgp'].unique()"
   ]
  },
  {
   "cell_type": "code",
   "execution_count": 13,
   "id": "0e9b480a",
   "metadata": {},
   "outputs": [
    {
     "data": {
      "text/plain": [
       "array([1., 0.])"
      ]
     },
     "execution_count": 13,
     "metadata": {},
     "output_type": "execute_result"
    }
   ],
   "source": [
    "df['dead'].unique()"
   ]
  },
  {
   "cell_type": "code",
   "execution_count": 14,
   "id": "b7ba6ead",
   "metadata": {},
   "outputs": [
    {
     "data": {
      "text/plain": [
       "array([1., 0.])"
      ]
     },
     "execution_count": 14,
     "metadata": {},
     "output_type": "execute_result"
    }
   ],
   "source": [
    "df['gf'].unique()"
   ]
  },
  {
   "cell_type": "code",
   "execution_count": 15,
   "id": "4921e27a",
   "metadata": {},
   "outputs": [
    {
     "data": {
      "text/plain": [
       "array([ 1.,  0., 99.])"
      ]
     },
     "execution_count": 15,
     "metadata": {},
     "output_type": "execute_result"
    }
   ],
   "source": [
    "df['agvhd24'].unique()"
   ]
  },
  {
   "cell_type": "code",
   "execution_count": 16,
   "id": "cd316b10",
   "metadata": {},
   "outputs": [
    {
     "data": {
      "text/plain": [
       "array([0., 1.])"
      ]
     },
     "execution_count": 16,
     "metadata": {},
     "output_type": "execute_result"
    }
   ],
   "source": [
    "df['cgvhd'].unique()"
   ]
  },
  {
   "cell_type": "code",
   "execution_count": 17,
   "id": "859dbce1",
   "metadata": {},
   "outputs": [
    {
     "data": {
      "text/plain": [
       "array([1., 0.])"
      ]
     },
     "execution_count": 17,
     "metadata": {},
     "output_type": "execute_result"
    }
   ],
   "source": [
    "df['anc'].unique()"
   ]
  }
 ],
 "metadata": {
  "kernelspec": {
   "display_name": "base",
   "language": "python",
   "name": "python3"
  },
  "language_info": {
   "codemirror_mode": {
    "name": "ipython",
    "version": 3
   },
   "file_extension": ".py",
   "mimetype": "text/x-python",
   "name": "python",
   "nbconvert_exporter": "python",
   "pygments_lexer": "ipython3",
   "version": "3.12.4"
  }
 },
 "nbformat": 4,
 "nbformat_minor": 5
}
