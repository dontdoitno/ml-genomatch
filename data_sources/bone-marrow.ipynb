{
 "cells": [
  {
   "cell_type": "code",
   "execution_count": 17,
   "id": "d7dcb840",
   "metadata": {},
   "outputs": [],
   "source": [
    "import pandas as pd\n",
    "import numpy as np"
   ]
  },
  {
   "cell_type": "code",
   "execution_count": 18,
   "id": "c2a53a86",
   "metadata": {},
   "outputs": [
    {
     "data": {
      "text/html": [
       "<div>\n",
       "<style scoped>\n",
       "    .dataframe tbody tr th:only-of-type {\n",
       "        vertical-align: middle;\n",
       "    }\n",
       "\n",
       "    .dataframe tbody tr th {\n",
       "        vertical-align: top;\n",
       "    }\n",
       "\n",
       "    .dataframe thead th {\n",
       "        text-align: right;\n",
       "    }\n",
       "</style>\n",
       "<table border=\"1\" class=\"dataframe\">\n",
       "  <thead>\n",
       "    <tr style=\"text-align: right;\">\n",
       "      <th></th>\n",
       "      <th>donor_age</th>\n",
       "      <th>donor_age_below_35</th>\n",
       "      <th>donor_ABO</th>\n",
       "      <th>donor_CMV</th>\n",
       "      <th>recipient_age</th>\n",
       "      <th>recipient_age_below_10</th>\n",
       "      <th>recipient_age_int</th>\n",
       "      <th>recipient_gender</th>\n",
       "      <th>recipient_body_mass</th>\n",
       "      <th>recipient_ABO</th>\n",
       "      <th>...</th>\n",
       "      <th>time_to_ANC_recovery</th>\n",
       "      <th>PLT_recovery</th>\n",
       "      <th>time_to_PLT_recovery</th>\n",
       "      <th>acute_GvHD_II_III_IV</th>\n",
       "      <th>acute_GvHD_III_IV</th>\n",
       "      <th>time_to_acute_GvHD_III_IV</th>\n",
       "      <th>extensive_chronic_GvHD</th>\n",
       "      <th>relapse</th>\n",
       "      <th>survival_time</th>\n",
       "      <th>survival_status</th>\n",
       "    </tr>\n",
       "  </thead>\n",
       "  <tbody>\n",
       "    <tr>\n",
       "      <th>0</th>\n",
       "      <td>22.830137</td>\n",
       "      <td>yes</td>\n",
       "      <td>A</td>\n",
       "      <td>present</td>\n",
       "      <td>9.6</td>\n",
       "      <td>yes</td>\n",
       "      <td>5_10</td>\n",
       "      <td>male</td>\n",
       "      <td>35.0</td>\n",
       "      <td>A</td>\n",
       "      <td>...</td>\n",
       "      <td>19.0</td>\n",
       "      <td>yes</td>\n",
       "      <td>51.0</td>\n",
       "      <td>yes</td>\n",
       "      <td>yes</td>\n",
       "      <td>32.0</td>\n",
       "      <td>no</td>\n",
       "      <td>no</td>\n",
       "      <td>999.0</td>\n",
       "      <td>0</td>\n",
       "    </tr>\n",
       "    <tr>\n",
       "      <th>1</th>\n",
       "      <td>23.342466</td>\n",
       "      <td>yes</td>\n",
       "      <td>B</td>\n",
       "      <td>absent</td>\n",
       "      <td>4.0</td>\n",
       "      <td>yes</td>\n",
       "      <td>0_5</td>\n",
       "      <td>male</td>\n",
       "      <td>20.6</td>\n",
       "      <td>B</td>\n",
       "      <td>...</td>\n",
       "      <td>16.0</td>\n",
       "      <td>yes</td>\n",
       "      <td>37.0</td>\n",
       "      <td>yes</td>\n",
       "      <td>no</td>\n",
       "      <td>?</td>\n",
       "      <td>no</td>\n",
       "      <td>yes</td>\n",
       "      <td>163.0</td>\n",
       "      <td>1</td>\n",
       "    </tr>\n",
       "    <tr>\n",
       "      <th>2</th>\n",
       "      <td>26.394521</td>\n",
       "      <td>yes</td>\n",
       "      <td>B</td>\n",
       "      <td>absent</td>\n",
       "      <td>6.6</td>\n",
       "      <td>yes</td>\n",
       "      <td>5_10</td>\n",
       "      <td>male</td>\n",
       "      <td>23.4</td>\n",
       "      <td>B</td>\n",
       "      <td>...</td>\n",
       "      <td>23.0</td>\n",
       "      <td>yes</td>\n",
       "      <td>20.0</td>\n",
       "      <td>yes</td>\n",
       "      <td>no</td>\n",
       "      <td>?</td>\n",
       "      <td>no</td>\n",
       "      <td>yes</td>\n",
       "      <td>435.0</td>\n",
       "      <td>1</td>\n",
       "    </tr>\n",
       "    <tr>\n",
       "      <th>3</th>\n",
       "      <td>39.684932</td>\n",
       "      <td>no</td>\n",
       "      <td>A</td>\n",
       "      <td>present</td>\n",
       "      <td>18.1</td>\n",
       "      <td>no</td>\n",
       "      <td>10_20</td>\n",
       "      <td>female</td>\n",
       "      <td>50.0</td>\n",
       "      <td>AB</td>\n",
       "      <td>...</td>\n",
       "      <td>23.0</td>\n",
       "      <td>yes</td>\n",
       "      <td>29.0</td>\n",
       "      <td>yes</td>\n",
       "      <td>yes</td>\n",
       "      <td>19.0</td>\n",
       "      <td>?</td>\n",
       "      <td>no</td>\n",
       "      <td>53.0</td>\n",
       "      <td>1</td>\n",
       "    </tr>\n",
       "    <tr>\n",
       "      <th>4</th>\n",
       "      <td>33.358904</td>\n",
       "      <td>yes</td>\n",
       "      <td>A</td>\n",
       "      <td>absent</td>\n",
       "      <td>1.3</td>\n",
       "      <td>yes</td>\n",
       "      <td>0_5</td>\n",
       "      <td>female</td>\n",
       "      <td>9.0</td>\n",
       "      <td>AB</td>\n",
       "      <td>...</td>\n",
       "      <td>14.0</td>\n",
       "      <td>yes</td>\n",
       "      <td>14.0</td>\n",
       "      <td>no</td>\n",
       "      <td>no</td>\n",
       "      <td>?</td>\n",
       "      <td>no</td>\n",
       "      <td>no</td>\n",
       "      <td>2043.0</td>\n",
       "      <td>0</td>\n",
       "    </tr>\n",
       "  </tbody>\n",
       "</table>\n",
       "<p>5 rows × 39 columns</p>\n",
       "</div>"
      ],
      "text/plain": [
       "   donor_age donor_age_below_35 donor_ABO donor_CMV  recipient_age  \\\n",
       "0  22.830137                yes         A   present            9.6   \n",
       "1  23.342466                yes         B    absent            4.0   \n",
       "2  26.394521                yes         B    absent            6.6   \n",
       "3  39.684932                 no         A   present           18.1   \n",
       "4  33.358904                yes         A    absent            1.3   \n",
       "\n",
       "  recipient_age_below_10 recipient_age_int recipient_gender  \\\n",
       "0                    yes              5_10             male   \n",
       "1                    yes               0_5             male   \n",
       "2                    yes              5_10             male   \n",
       "3                     no             10_20           female   \n",
       "4                    yes               0_5           female   \n",
       "\n",
       "  recipient_body_mass recipient_ABO  ... time_to_ANC_recovery PLT_recovery  \\\n",
       "0                35.0             A  ...                 19.0          yes   \n",
       "1                20.6             B  ...                 16.0          yes   \n",
       "2                23.4             B  ...                 23.0          yes   \n",
       "3                50.0            AB  ...                 23.0          yes   \n",
       "4                 9.0            AB  ...                 14.0          yes   \n",
       "\n",
       "  time_to_PLT_recovery acute_GvHD_II_III_IV acute_GvHD_III_IV  \\\n",
       "0                 51.0                  yes               yes   \n",
       "1                 37.0                  yes                no   \n",
       "2                 20.0                  yes                no   \n",
       "3                 29.0                  yes               yes   \n",
       "4                 14.0                   no                no   \n",
       "\n",
       "  time_to_acute_GvHD_III_IV extensive_chronic_GvHD relapse survival_time  \\\n",
       "0                      32.0                     no      no         999.0   \n",
       "1                         ?                     no     yes         163.0   \n",
       "2                         ?                     no     yes         435.0   \n",
       "3                      19.0                      ?      no          53.0   \n",
       "4                         ?                     no      no        2043.0   \n",
       "\n",
       "  survival_status  \n",
       "0               0  \n",
       "1               1  \n",
       "2               1  \n",
       "3               1  \n",
       "4               0  \n",
       "\n",
       "[5 rows x 39 columns]"
      ]
     },
     "execution_count": 18,
     "metadata": {},
     "output_type": "execute_result"
    }
   ],
   "source": [
    "df = pd.read_csv('../raw_datasets/bone-marrow-dataset.csv')\n",
    "df.head()"
   ]
  },
  {
   "cell_type": "code",
   "execution_count": 19,
   "id": "76246d44",
   "metadata": {},
   "outputs": [
    {
     "name": "stdout",
     "output_type": "stream",
     "text": [
      "<class 'pandas.core.frame.DataFrame'>\n",
      "RangeIndex: 187 entries, 0 to 186\n",
      "Data columns (total 39 columns):\n",
      " #   Column                     Non-Null Count  Dtype  \n",
      "---  ------                     --------------  -----  \n",
      " 0   donor_age                  187 non-null    float64\n",
      " 1   donor_age_below_35         187 non-null    object \n",
      " 2   donor_ABO                  187 non-null    object \n",
      " 3   donor_CMV                  187 non-null    object \n",
      " 4   recipient_age              187 non-null    float64\n",
      " 5   recipient_age_below_10     187 non-null    object \n",
      " 6   recipient_age_int          187 non-null    object \n",
      " 7   recipient_gender           187 non-null    object \n",
      " 8   recipient_body_mass        187 non-null    object \n",
      " 9   recipient_ABO              187 non-null    object \n",
      " 10  recipient_rh               187 non-null    object \n",
      " 11  recipient_CMV              187 non-null    object \n",
      " 12  disease                    187 non-null    object \n",
      " 13  disease_group              187 non-null    object \n",
      " 14  gender_match               187 non-null    object \n",
      " 15  ABO_match                  187 non-null    object \n",
      " 16  CMV_status                 187 non-null    object \n",
      " 17  HLA_match                  187 non-null    object \n",
      " 18  HLA_mismatch               187 non-null    object \n",
      " 19  antigen                    187 non-null    object \n",
      " 20  allel                      187 non-null    object \n",
      " 21  HLA_group_1                187 non-null    object \n",
      " 22  risk_group                 187 non-null    object \n",
      " 23  stem_cell_source           187 non-null    object \n",
      " 24  tx_post_relapse            187 non-null    object \n",
      " 25  CD34_x1e6_per_kg           187 non-null    float64\n",
      " 26  CD3_x1e8_per_kg            187 non-null    object \n",
      " 27  CD3_to_CD34_ratio          187 non-null    object \n",
      " 28  ANC_recovery               187 non-null    object \n",
      " 29  time_to_ANC_recovery       187 non-null    object \n",
      " 30  PLT_recovery               187 non-null    object \n",
      " 31  time_to_PLT_recovery       187 non-null    object \n",
      " 32  acute_GvHD_II_III_IV       187 non-null    object \n",
      " 33  acute_GvHD_III_IV          187 non-null    object \n",
      " 34  time_to_acute_GvHD_III_IV  187 non-null    object \n",
      " 35  extensive_chronic_GvHD     187 non-null    object \n",
      " 36  relapse                    187 non-null    object \n",
      " 37  survival_time              187 non-null    float64\n",
      " 38  survival_status            187 non-null    int64  \n",
      "dtypes: float64(4), int64(1), object(34)\n",
      "memory usage: 57.1+ KB\n"
     ]
    }
   ],
   "source": [
    "df.info()"
   ]
  },
  {
   "cell_type": "code",
   "execution_count": 20,
   "id": "68051a18",
   "metadata": {},
   "outputs": [],
   "source": [
    "to_nan = ['?']\n",
    "df.replace(to_replace=to_nan, value=np.nan, inplace=True)"
   ]
  },
  {
   "cell_type": "code",
   "execution_count": 31,
   "id": "9c35b1f7",
   "metadata": {},
   "outputs": [
    {
     "data": {
      "text/plain": [
       "['donor_age',\n",
       " 'donor_age_below_35',\n",
       " 'donor_ABO',\n",
       " 'donor_CMV',\n",
       " 'recipient_age',\n",
       " 'recipient_age_below_10',\n",
       " 'recipient_age_int',\n",
       " 'recipient_gender',\n",
       " 'recipient_body_mass',\n",
       " 'recipient_ABO',\n",
       " 'recipient_rh',\n",
       " 'recipient_CMV',\n",
       " 'disease',\n",
       " 'disease_group',\n",
       " 'gender_match',\n",
       " 'ABO_match',\n",
       " 'CMV_status',\n",
       " 'HLA_match',\n",
       " 'HLA_mismatch',\n",
       " 'antigen',\n",
       " 'allel',\n",
       " 'HLA_group_1',\n",
       " 'risk_group',\n",
       " 'stem_cell_source',\n",
       " 'tx_post_relapse',\n",
       " 'CD34_x1e6_per_kg',\n",
       " 'CD3_x1e8_per_kg',\n",
       " 'CD3_to_CD34_ratio',\n",
       " 'ANC_recovery',\n",
       " 'time_to_ANC_recovery',\n",
       " 'PLT_recovery',\n",
       " 'time_to_PLT_recovery',\n",
       " 'acute_GvHD_II_III_IV',\n",
       " 'acute_GvHD_III_IV',\n",
       " 'time_to_acute_GvHD_III_IV',\n",
       " 'extensive_chronic_GvHD',\n",
       " 'relapse',\n",
       " 'survival_time',\n",
       " 'survival_status']"
      ]
     },
     "execution_count": 31,
     "metadata": {},
     "output_type": "execute_result"
    }
   ],
   "source": [
    "df.columns.tolist()"
   ]
  },
  {
   "cell_type": "code",
   "execution_count": 21,
   "id": "e0227806",
   "metadata": {},
   "outputs": [
    {
     "data": {
      "text/plain": [
       "array(['male', 'female'], dtype=object)"
      ]
     },
     "execution_count": 21,
     "metadata": {},
     "output_type": "execute_result"
    }
   ],
   "source": [
    "df['recipient_gender'].unique()"
   ]
  },
  {
   "cell_type": "code",
   "execution_count": 22,
   "id": "e597009f",
   "metadata": {},
   "outputs": [
    {
     "data": {
      "text/plain": [
       "array(['ALL', 'AML', 'chronic', 'nonmalignant', 'lymphoma'], dtype=object)"
      ]
     },
     "execution_count": 22,
     "metadata": {},
     "output_type": "execute_result"
    }
   ],
   "source": [
    "df['disease'].unique()"
   ]
  },
  {
   "cell_type": "code",
   "execution_count": 23,
   "id": "3bf0fe96",
   "metadata": {},
   "outputs": [
    {
     "data": {
      "text/plain": [
       "array(['10/10', '9/10', '7/10', '8/10'], dtype=object)"
      ]
     },
     "execution_count": 23,
     "metadata": {},
     "output_type": "execute_result"
    }
   ],
   "source": [
    "df['HLA_match'].unique()"
   ]
  },
  {
   "cell_type": "code",
   "execution_count": 24,
   "id": "ff5c9cf2",
   "metadata": {},
   "outputs": [
    {
     "data": {
      "text/plain": [
       "array(['0', '1', '3', '2', '4', nan], dtype=object)"
      ]
     },
     "execution_count": 24,
     "metadata": {},
     "output_type": "execute_result"
    }
   ],
   "source": [
    "df['allel'].unique()"
   ]
  },
  {
   "cell_type": "code",
   "execution_count": 25,
   "id": "c2258b88",
   "metadata": {},
   "outputs": [
    {
     "data": {
      "text/plain": [
       "array(['peripheral_blood', 'bone_marrow'], dtype=object)"
      ]
     },
     "execution_count": 25,
     "metadata": {},
     "output_type": "execute_result"
    }
   ],
   "source": [
    "df['stem_cell_source'].unique()"
   ]
  },
  {
   "cell_type": "code",
   "execution_count": 26,
   "id": "9582fa61",
   "metadata": {},
   "outputs": [
    {
     "data": {
      "text/plain": [
       "array(['yes', 'no'], dtype=object)"
      ]
     },
     "execution_count": 26,
     "metadata": {},
     "output_type": "execute_result"
    }
   ],
   "source": [
    "df['ANC_recovery'].unique()"
   ]
  },
  {
   "cell_type": "code",
   "execution_count": 27,
   "id": "1932d452",
   "metadata": {},
   "outputs": [
    {
     "data": {
      "text/plain": [
       "array(['yes', 'no'], dtype=object)"
      ]
     },
     "execution_count": 27,
     "metadata": {},
     "output_type": "execute_result"
    }
   ],
   "source": [
    "df['acute_GvHD_II_III_IV'].unique()"
   ]
  },
  {
   "cell_type": "code",
   "execution_count": 28,
   "id": "8d835e48",
   "metadata": {},
   "outputs": [
    {
     "data": {
      "text/plain": [
       "array(['no', nan, 'yes'], dtype=object)"
      ]
     },
     "execution_count": 28,
     "metadata": {},
     "output_type": "execute_result"
    }
   ],
   "source": [
    "df['extensive_chronic_GvHD'].unique()"
   ]
  },
  {
   "cell_type": "code",
   "execution_count": 29,
   "id": "47d07b76",
   "metadata": {},
   "outputs": [
    {
     "data": {
      "text/plain": [
       "array(['no', 'yes'], dtype=object)"
      ]
     },
     "execution_count": 29,
     "metadata": {},
     "output_type": "execute_result"
    }
   ],
   "source": [
    "df['relapse'].unique()"
   ]
  },
  {
   "cell_type": "code",
   "execution_count": 30,
   "id": "9a4612f0",
   "metadata": {},
   "outputs": [
    {
     "data": {
      "text/plain": [
       "array([0, 1])"
      ]
     },
     "execution_count": 30,
     "metadata": {},
     "output_type": "execute_result"
    }
   ],
   "source": [
    "df['survival_status'].unique()"
   ]
  }
 ],
 "metadata": {
  "kernelspec": {
   "display_name": "base",
   "language": "python",
   "name": "python3"
  },
  "language_info": {
   "codemirror_mode": {
    "name": "ipython",
    "version": 3
   },
   "file_extension": ".py",
   "mimetype": "text/x-python",
   "name": "python",
   "nbconvert_exporter": "python",
   "pygments_lexer": "ipython3",
   "version": "3.12.4"
  }
 },
 "nbformat": 4,
 "nbformat_minor": 5
}
